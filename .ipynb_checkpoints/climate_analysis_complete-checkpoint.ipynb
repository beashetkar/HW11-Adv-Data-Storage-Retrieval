{
 "cells": [
  {
   "cell_type": "markdown",
   "metadata": {},
   "source": [
    "# Surfs Up! Climate Analysis.\n",
    "\n",
    "### Step 3 - Climate Analysis and Exploration\n",
    "\n",
    "* Create a Jupyter Notebook file called climate_analysis.ipynb and use it to complete your climate analysis and data exporation.\n",
    "\n",
    "* Choose a start date and end date for your trip. Make sure that your vacation range is approximately 3-15 days total.\n",
    "\n",
    "* Use SQLAlchemy create_engine to connect to your sqlite database.\n",
    "\n",
    "* Use SQLAlchemy automap_base() to reflect your tables into classes and save a reference to those classes called Station and Measurement."
   ]
  },
  {
   "cell_type": "code",
   "execution_count": 1,
   "metadata": {
    "collapsed": true
   },
   "outputs": [],
   "source": [
    "# Dependencies\n",
    "\n",
    "import pandas as pd\n",
    "import numpy as np\n",
    "from datetime import datetime, date, timedelta\n",
    "import seaborn as sns\n",
    "import matplotlib\n",
    "import matplotlib.pyplot as plt"
   ]
  },
  {
   "cell_type": "code",
   "execution_count": 2,
   "metadata": {
    "collapsed": true
   },
   "outputs": [],
   "source": [
    "# Python SQL toolkit and Object Relational Mapper\n",
    "\n",
    "import sqlalchemy\n",
    "from sqlalchemy.ext.automap import automap_base\n",
    "from sqlalchemy.orm import Session\n",
    "from sqlalchemy import create_engine, inspect\n",
    "from sqlalchemy.sql import func"
   ]
  },
  {
   "cell_type": "markdown",
   "metadata": {},
   "source": [
    "### Database Exploration."
   ]
  },
  {
   "cell_type": "code",
   "execution_count": 3,
   "metadata": {},
   "outputs": [
    {
     "data": {
      "text/plain": [
       "['measurement', 'station']"
      ]
     },
     "execution_count": 3,
     "metadata": {},
     "output_type": "execute_result"
    }
   ],
   "source": [
    "engine = create_engine(\"sqlite:///hawaii.sqlite\", echo=False)\n",
    "\n",
    "inspector = inspect(engine)\n",
    "inspector.get_table_names()"
   ]
  },
  {
   "cell_type": "code",
   "execution_count": 4,
   "metadata": {},
   "outputs": [
    {
     "data": {
      "text/plain": [
       "[(1, 'USC00519397', '2010-01-01', 0.08, 65),\n",
       " (2, 'USC00519397', '2010-01-02', 0.0, 63),\n",
       " (3, 'USC00519397', '2010-01-03', 0.0, 74),\n",
       " (4, 'USC00519397', '2010-01-04', 0.0, 76),\n",
       " (5, 'USC00519397', '2010-01-06', 0.03, 73)]"
      ]
     },
     "execution_count": 4,
     "metadata": {},
     "output_type": "execute_result"
    }
   ],
   "source": [
    "engine.execute('SELECT * FROM measurement LIMIT 5').fetchall()"
   ]
  },
  {
   "cell_type": "code",
   "execution_count": 5,
   "metadata": {},
   "outputs": [
    {
     "data": {
      "text/plain": [
       "[(1, 'USC00519397', 'WAIKIKI 717.2, HI US', 21.2716, -157.8168, 3.0),\n",
       " (2, 'USC00513117', 'KANEOHE 838.1, HI US', 21.4234, -157.8015, 14.6),\n",
       " (3, 'USC00514830', 'KUALOA RANCH HEADQUARTERS 886.9, HI US', 21.5213, -157.8374, 7.0),\n",
       " (4, 'USC00517948', 'PEARL CITY, HI US', 21.3934, -157.9751, 11.9),\n",
       " (5, 'USC00518838', 'UPPER WAHIAWA 874.3, HI US', 21.4992, -158.0111, 306.6)]"
      ]
     },
     "execution_count": 5,
     "metadata": {},
     "output_type": "execute_result"
    }
   ],
   "source": [
    "engine.execute('SELECT * FROM station LIMIT 5').fetchall()"
   ]
  },
  {
   "cell_type": "code",
   "execution_count": 6,
   "metadata": {},
   "outputs": [
    {
     "name": "stdout",
     "output_type": "stream",
     "text": [
      "id INTEGER\n",
      "station VARCHAR\n",
      "date VARCHAR\n",
      "prcp FLOAT\n",
      "tobs INTEGER\n"
     ]
    }
   ],
   "source": [
    "columns = inspector.get_columns('measurement')\n",
    "for c in columns:\n",
    "    print(c['name'], c[\"type\"])"
   ]
  },
  {
   "cell_type": "code",
   "execution_count": 7,
   "metadata": {},
   "outputs": [
    {
     "name": "stdout",
     "output_type": "stream",
     "text": [
      "id INTEGER\n",
      "station VARCHAR\n",
      "name VARCHAR(255)\n",
      "latitude FLOAT\n",
      "longitude FLOAT\n",
      "elevation FLOAT\n"
     ]
    }
   ],
   "source": [
    "columns = inspector.get_columns('station')\n",
    "for c in columns:\n",
    "    print(c['name'], c[\"type\"])"
   ]
  },
  {
   "cell_type": "markdown",
   "metadata": {},
   "source": [
    "### Reflect database "
   ]
  },
  {
   "cell_type": "code",
   "execution_count": 8,
   "metadata": {},
   "outputs": [
    {
     "data": {
      "text/plain": [
       "['measurement', 'station']"
      ]
     },
     "execution_count": 8,
     "metadata": {},
     "output_type": "execute_result"
    }
   ],
   "source": [
    "# Reflect Database into ORM class\n",
    "Base = automap_base()\n",
    "\n",
    "# Use the Base class to reflect the database tables\n",
    "Base.prepare(engine, reflect=True)\n",
    "\n",
    "# Print all of the classes mapped to the Base\n",
    "Base.classes.keys()"
   ]
  },
  {
   "cell_type": "code",
   "execution_count": 9,
   "metadata": {
    "collapsed": true
   },
   "outputs": [],
   "source": [
    "# Assign the measurement and station  classes to the variables called `Measurements` and 'Stations'\n",
    "Measurements = Base.classes.measurement\n",
    "Stations = Base.classes.station\n",
    "\n",
    "# Create a session\n",
    "session = Session(engine)"
   ]
  },
  {
   "cell_type": "markdown",
   "metadata": {},
   "source": [
    "### Precipitation Analysis\n",
    "\n",
    "* Design a query to retrieve the last 12 months of precipitation data.\n",
    "* Select only the date and prcp values.\n",
    "* Load the query results into a Pandas DataFrame and set the index to the date column.\n",
    "* Plot the results using the DataFrame plot method.\n",
    "* Use Pandas to print the summary statistics for the precipitation data."
   ]
  },
  {
   "cell_type": "code",
   "execution_count": 10,
   "metadata": {
    "collapsed": true
   },
   "outputs": [],
   "source": [
    "# Find the last date in Measurments table.\n",
    "def get_last_date():\n",
    "    \n",
    "    qry = session.query(func.max(Measurements.date).label(\"last_date\"))\n",
    "    res = qry.one()\n",
    "    \n",
    "    return (res.last_date)    "
   ]
  },
  {
   "cell_type": "code",
   "execution_count": 11,
   "metadata": {
    "collapsed": true
   },
   "outputs": [],
   "source": [
    "# Find out the start date from last date or from the last day of the trip, the start date of the trip. \n",
    "# The duration of the trip was defined by default 12 days long.\n",
    "\n",
    "def get_start_date(end_date,t_move):\n",
    "\n",
    "    endDate = datetime.strptime(end_date, \"%Y-%m-%d\").date()\n",
    "    \n",
    "    # vacation trip was 12 days long\n",
    "    trip = 12\n",
    "\n",
    "    # reconstruct date fully\n",
    "    if t_move == 'Y' :\n",
    "        startDate = date(endDate.year - 1, endDate.month, endDate.day)\n",
    "    else:\n",
    "        startDate = date(endDate.year, endDate.month, endDate.day-trip)\n",
    "        \n",
    "    return (datetime.strftime(startDate, \"%Y-%m-%d\"))"
   ]
  },
  {
   "cell_type": "code",
   "execution_count": 12,
   "metadata": {
    "collapsed": true
   },
   "outputs": [],
   "source": [
    "# Obtain the precipitation of the last 12 months.\n",
    "\n",
    "def get_12_prec(start_date, end_date):\n",
    "    \n",
    "    result_df = pd.read_sql(session.query(Measurements.date,Measurements.prcp).\\\n",
    "        filter(Measurements.date.between(start_date, end_date)).\\\n",
    "        order_by(Measurements.date.asc()).statement, session.bind)\n",
    "    \n",
    "    result_df.set_index('date')    \n",
    "    return(result_df)"
   ]
  },
  {
   "cell_type": "code",
   "execution_count": 13,
   "metadata": {},
   "outputs": [
    {
     "data": {
      "text/html": [
       "<div>\n",
       "<style>\n",
       "    .dataframe thead tr:only-child th {\n",
       "        text-align: right;\n",
       "    }\n",
       "\n",
       "    .dataframe thead th {\n",
       "        text-align: left;\n",
       "    }\n",
       "\n",
       "    .dataframe tbody tr th {\n",
       "        vertical-align: top;\n",
       "    }\n",
       "</style>\n",
       "<table border=\"1\" class=\"dataframe\">\n",
       "  <thead>\n",
       "    <tr style=\"text-align: right;\">\n",
       "      <th></th>\n",
       "      <th>date</th>\n",
       "      <th>prcp</th>\n",
       "    </tr>\n",
       "  </thead>\n",
       "  <tbody>\n",
       "    <tr>\n",
       "      <th>0</th>\n",
       "      <td>2016-08-23</td>\n",
       "      <td>0.00</td>\n",
       "    </tr>\n",
       "    <tr>\n",
       "      <th>1</th>\n",
       "      <td>2016-08-23</td>\n",
       "      <td>0.15</td>\n",
       "    </tr>\n",
       "    <tr>\n",
       "      <th>2</th>\n",
       "      <td>2016-08-23</td>\n",
       "      <td>0.05</td>\n",
       "    </tr>\n",
       "    <tr>\n",
       "      <th>3</th>\n",
       "      <td>2016-08-23</td>\n",
       "      <td>0.00</td>\n",
       "    </tr>\n",
       "    <tr>\n",
       "      <th>4</th>\n",
       "      <td>2016-08-23</td>\n",
       "      <td>0.02</td>\n",
       "    </tr>\n",
       "  </tbody>\n",
       "</table>\n",
       "</div>"
      ],
      "text/plain": [
       "         date  prcp\n",
       "0  2016-08-23  0.00\n",
       "1  2016-08-23  0.15\n",
       "2  2016-08-23  0.05\n",
       "3  2016-08-23  0.00\n",
       "4  2016-08-23  0.02"
      ]
     },
     "execution_count": 13,
     "metadata": {},
     "output_type": "execute_result"
    }
   ],
   "source": [
    "# Get the last date of the data and find the date one year ago.\n",
    "\n",
    "last_date = get_last_date()\n",
    "\n",
    "# Call function get_start_date and find out the day of one year ago.\n",
    "year_ago_date = get_start_date(last_date, 'Y')\n",
    "\n",
    "prcp_year_df = get_12_prec(year_ago_date, last_date)\n",
    "prcp_year_df.head()"
   ]
  },
  {
   "cell_type": "code",
   "execution_count": 14,
   "metadata": {},
   "outputs": [
    {
     "data": {
      "text/plain": [
       "<matplotlib.figure.Figure at 0x1a41ecf44e0>"
      ]
     },
     "metadata": {},
     "output_type": "display_data"
    },
    {
     "data": {
      "image/png": "[encoded data removed]",
      "text/plain": [
       "<matplotlib.figure.Figure at 0x1a41ecf4be0>"
      ]
     },
     "metadata": {},
     "output_type": "display_data"
    }
   ],
   "source": [
    "fig = plt.figure()\n",
    "\n",
    "prcp_year_df.plot(x='date', figsize = (18,8), color='blue' )\n",
    "\n",
    "plt.title(f\"Hawaii Precipitation Analysis ({year_ago_date} - {last_date})\" , fontsize=25)\n",
    "plt.ylabel(\"Precipitation (inches)\", fontsize=20)\n",
    "plt.xlabel(\"Date\", fontsize=20)\n",
    "plt.grid(True, ls='dashed')\n",
    "plt.xticks(rotation=(0.45),size='large')\n",
    "plt.yticks(size='large')\n",
    "\n",
    "# Put a legend below current axis\n",
    "plt.legend([\"Precipitation\"],loc=\"best\",prop={'size': 20})\n",
    "\n",
    "#plt.savefig('output/prcp_analysis.png')\n",
    "plt.show()"
   ]
  },
  {
   "cell_type": "markdown",
   "metadata": {},
   "source": [
    "### Station Analysis\n",
    "\n",
    "1. Design a query to calculate the total number of stations.\n",
    "2. Design a query to find the most active stations.\n",
    "    * List the stations and observation counts in descending order.\n",
    "    * Which station has the highest number of observations?\n",
    "3. Design a query to retrieve the last 12 months of temperature observation data (tobs).\n",
    "    * Filter by the station with the highest number of observations.\n",
    "    * Plot the results as a histogram with bins=12"
   ]
  },
  {
   "cell_type": "code",
   "execution_count": 15,
   "metadata": {},
   "outputs": [
    {
     "name": "stdout",
     "output_type": "stream",
     "text": [
      "Total number  of stations : 9 \n",
      "\n",
      "Stations and Observations counts :\n"
     ]
    },
    {
     "data": {
      "text/plain": [
       "[('USC00519281', 'WAIHEE 837.5, HI US', 2772),\n",
       " ('USC00519397', 'WAIKIKI 717.2, HI US', 2724),\n",
       " ('USC00513117', 'KANEOHE 838.1, HI US', 2709),\n",
       " ('USC00519523', 'WAIMANALO EXPERIMENTAL FARM, HI US', 2669),\n",
       " ('USC00516128', 'MANOA LYON ARBO 785.2, HI US', 2612),\n",
       " ('USC00514830', 'KUALOA RANCH HEADQUARTERS 886.9, HI US', 2202),\n",
       " ('USC00511918', 'HONOLULU OBSERVATORY 702.2, HI US', 1979),\n",
       " ('USC00517948', 'PEARL CITY, HI US', 1372),\n",
       " ('USC00518838', 'UPPER WAHIAWA 874.3, HI US', 511)]"
      ]
     },
     "execution_count": 15,
     "metadata": {},
     "output_type": "execute_result"
    }
   ],
   "source": [
    "# Query that calculate the Total Number of Stations\n",
    "\n",
    "total_num_stations = session.query(Stations.station).count()\n",
    "print(f\"Total number  of stations : {total_num_stations} \")\n",
    "\n",
    "# The most Active stations.\n",
    "top_stations = session.query(Measurements.station, Stations.name, func.count(Measurements.tobs)).\\\n",
    "            filter(Measurements.station == Stations.station).\\\n",
    "            group_by(Measurements.station).\\\n",
    "            order_by(func.count(Measurements.tobs).desc()).all()\n",
    " \n",
    "print(\"\\nStations and Observations counts :\")\n",
    "top_stations"
   ]
  },
  {
   "cell_type": "code",
   "execution_count": 16,
   "metadata": {},
   "outputs": [
    {
     "name": "stdout",
     "output_type": "stream",
     "text": [
      " Station: USC00519281 with the highest number of observations: 2772\n"
     ]
    }
   ],
   "source": [
    "# Which station has the highest number of observations?\n",
    "\n",
    "highest_station = top_stations[0:1]\n",
    "print(\" Station: %s with the highest number of observations: %s\" \\\n",
    "      % (highest_station[0][0],highest_station[0][2]))\n",
    "           "
   ]
  },
  {
   "cell_type": "code",
   "execution_count": 17,
   "metadata": {},
   "outputs": [
    {
     "data": {
      "text/html": [
       "<div>\n",
       "<style>\n",
       "    .dataframe thead tr:only-child th {\n",
       "        text-align: right;\n",
       "    }\n",
       "\n",
       "    .dataframe thead th {\n",
       "        text-align: left;\n",
       "    }\n",
       "\n",
       "    .dataframe tbody tr th {\n",
       "        vertical-align: top;\n",
       "    }\n",
       "</style>\n",
       "<table border=\"1\" class=\"dataframe\">\n",
       "  <thead>\n",
       "    <tr style=\"text-align: right;\">\n",
       "      <th></th>\n",
       "      <th>tobs</th>\n",
       "    </tr>\n",
       "  </thead>\n",
       "  <tbody>\n",
       "    <tr>\n",
       "      <th>0</th>\n",
       "      <td>77</td>\n",
       "    </tr>\n",
       "    <tr>\n",
       "      <th>1</th>\n",
       "      <td>77</td>\n",
       "    </tr>\n",
       "    <tr>\n",
       "      <th>2</th>\n",
       "      <td>80</td>\n",
       "    </tr>\n",
       "    <tr>\n",
       "      <th>3</th>\n",
       "      <td>80</td>\n",
       "    </tr>\n",
       "    <tr>\n",
       "      <th>4</th>\n",
       "      <td>75</td>\n",
       "    </tr>\n",
       "    <tr>\n",
       "      <th>5</th>\n",
       "      <td>73</td>\n",
       "    </tr>\n",
       "    <tr>\n",
       "      <th>6</th>\n",
       "      <td>78</td>\n",
       "    </tr>\n",
       "    <tr>\n",
       "      <th>7</th>\n",
       "      <td>77</td>\n",
       "    </tr>\n",
       "    <tr>\n",
       "      <th>8</th>\n",
       "      <td>78</td>\n",
       "    </tr>\n",
       "    <tr>\n",
       "      <th>9</th>\n",
       "      <td>80</td>\n",
       "    </tr>\n",
       "  </tbody>\n",
       "</table>\n",
       "</div>"
      ],
      "text/plain": [
       "   tobs\n",
       "0    77\n",
       "1    77\n",
       "2    80\n",
       "3    80\n",
       "4    75\n",
       "5    73\n",
       "6    78\n",
       "7    77\n",
       "8    78\n",
       "9    80"
      ]
     },
     "execution_count": 17,
     "metadata": {},
     "output_type": "execute_result"
    }
   ],
   "source": [
    "# Retrieve the last 12 months of temperature observation data (tobs) \n",
    "# for the station with the highest number of observations.\n",
    "\n",
    "tobs_hgst_station = session.query(Measurements.tobs).\\\n",
    "                      filter(Measurements.station == highest_station[0][0], \\\n",
    "                      Measurements.date.between(year_ago_date, last_date)).all()\n",
    "    \n",
    "tobs_hgst_station_df = pd.DataFrame(tobs_hgst_station, columns=[ 'tobs'])\n",
    "tobs_hgst_station_df.head(10)"
   ]
  },
  {
   "cell_type": "code",
   "execution_count": 18,
   "metadata": {},
   "outputs": [
    {
     "data": {
      "image/png": "[encoded data removed]",
      "text/plain": [
       "<matplotlib.figure.Figure at 0x1a41f5c4da0>"
      ]
     },
     "metadata": {},
     "output_type": "display_data"
    }
   ],
   "source": [
    "# Plot the results as a histogram with bins=12\n",
    "\n",
    "fig = plt.figure()\n",
    "\n",
    "# Control the number of bins\n",
    "sns.distplot(tobs_hgst_station_df[\"tobs\"], bins=12, color='blue', hist=True, kde=False, rug=False )\n",
    "\n",
    "plt.title(f\"Frequency of Temperature at {highest_station[0][1]}\", fontsize=15)\n",
    "plt.figsize = (50,30)\n",
    "plt.grid(True, ls='dashed')\n",
    "plt.xlabel(\"Temperature in Fahrenheits\",fontsize=13)\n",
    "plt.ylabel(\"Occurance\", fontsize=13)\n",
    "plt.legend([\"tobs\"],loc=\"best\",prop={'size': 12})\n",
    "\n",
    "plt.xticks(rotation=(0.45),size='large')\n",
    "plt.yticks(size='large')\n",
    "\n",
    "#plt.savefig('output/prcp_analysis.png')\n",
    "plt.show()\n"
   ]
  },
  {
   "cell_type": "markdown",
   "metadata": {},
   "source": [
    "### Temperature Analysis\n",
    "\n",
    "1) Write a function called calc_temps that will accept a start date and end date in the format %Y-%m-%d and return the minimum, average, and maximum temperatures for that range of dates.\n",
    "\n",
    "2) Use the calc_temps function to calculate the min, avg, and max temperatures for your trip using the matching dates from the previous year (i.e. use \"2017-01-01\" if your trip start date was \"2018-01-01\")\n",
    "\n",
    "3) Plot the min, avg, and max temperature from your previous query as a bar chart.\n",
    "\n",
    "    * Use the average temperature as the bar height.\n",
    "    * Use the peak-to-peak (tmax-tmin) value as the y error bar (yerr)."
   ]
  },
  {
   "cell_type": "code",
   "execution_count": 19,
   "metadata": {
    "collapsed": true
   },
   "outputs": [],
   "source": [
    "#Fuction that gets the minimum, maximum and average temperature of the matching dates from the previous year.\n",
    "# start_date = matching date from the previous year - number of days of the trip.\n",
    "# end_date = \n",
    "\n",
    "def calc_temps(start_date, end_date):\n",
    "    \n",
    "    sel = [ func.min(Measurements.tobs), func.max(Measurements.tobs), func.avg(Measurements.tobs),\n",
    "       (func.max(Measurements.tobs) - func.min(Measurements.tobs))]\n",
    "           \n",
    "    stmt = session.query(*sel).filter(Measurements.date.between(start_date, end_date)).first()\n",
    "                  \n",
    "    return(stmt)"
   ]
  },
  {
   "cell_type": "code",
   "execution_count": 20,
   "metadata": {},
   "outputs": [
    {
     "data": {
      "text/plain": [
       "[71.0, 83.0, 78.011904761904759, 12.0]"
      ]
     },
     "execution_count": 20,
     "metadata": {},
     "output_type": "execute_result"
    }
   ],
   "source": [
    "# Find the matching days from the previous years.\n",
    "\n",
    "end_date = year_ago_date\n",
    "start_date = get_start_date(end_date, 'N')\n",
    "\n",
    "temp_analysis = calc_temps(start_date,end_date)\n",
    "\n",
    "temps = list(np.ravel(temp_analysis))\n",
    "temps"
   ]
  },
  {
   "cell_type": "code",
   "execution_count": 21,
   "metadata": {},
   "outputs": [
    {
     "data": {
      "image/png": "[encoded data removed]",
      "text/plain": [
       "<matplotlib.figure.Figure at 0x1a41f995198>"
      ]
     },
     "metadata": {},
     "output_type": "display_data"
    }
   ],
   "source": [
    "\n",
    "fig, ax = plt.subplots()\n",
    "bar_chart = ax.bar(0 , temps[2], color= 'red', yerr=[temps[3]])\n",
    "plt.align = 'center'\n",
    "plt.figsize = (40,20)\n",
    "plt.grid(True)\n",
    "plt.ylabel(\"Temp (F)\")\n",
    "plt.title(f\"Trip Avg Temp Prior Year ({start_date} - {end_date})\")\n",
    "\n",
    "def autolabels(rects):\n",
    "    for rect in rects:\n",
    "        h=rect.get_height()\n",
    "        ax.text(rect.get_x() + rect.get_width()/2., .6*h,'%.2f' % float(h) ,ha='center', va='bottom', fontsize=10)\n",
    "\n",
    "autolabels(bar_chart)\n",
    "#fig.tight_layout()\n",
    "\n",
    "plt.show() \n"
   ]
  },
  {
   "cell_type": "markdown",
   "metadata": {},
   "source": [
    "### Optional Recommended Analysis\n",
    "1) Calcualte the rainfall per weather station using the previous year's matching dates.\n",
    "\n",
    "2) Calculate the daily normals. Normals are the averages for min, avg, and max temperatures."
   ]
  },
  {
   "cell_type": "code",
   "execution_count": 22,
   "metadata": {},
   "outputs": [
    {
     "data": {
      "text/html": [
       "<div>\n",
       "<style>\n",
       "    .dataframe thead tr:only-child th {\n",
       "        text-align: right;\n",
       "    }\n",
       "\n",
       "    .dataframe thead th {\n",
       "        text-align: left;\n",
       "    }\n",
       "\n",
       "    .dataframe tbody tr th {\n",
       "        vertical-align: top;\n",
       "    }\n",
       "</style>\n",
       "<table border=\"1\" class=\"dataframe\">\n",
       "  <thead>\n",
       "    <tr style=\"text-align: right;\">\n",
       "      <th></th>\n",
       "      <th>station</th>\n",
       "      <th>name</th>\n",
       "      <th>rainfall</th>\n",
       "    </tr>\n",
       "  </thead>\n",
       "  <tbody>\n",
       "    <tr>\n",
       "      <th>0</th>\n",
       "      <td>USC00513117</td>\n",
       "      <td>KANEOHE 838.1, HI US</td>\n",
       "      <td>2.110000</td>\n",
       "    </tr>\n",
       "    <tr>\n",
       "      <th>1</th>\n",
       "      <td>USC00514830</td>\n",
       "      <td>KUALOA RANCH HEADQUARTERS 886.9, HI US</td>\n",
       "      <td>0.305000</td>\n",
       "    </tr>\n",
       "    <tr>\n",
       "      <th>2</th>\n",
       "      <td>USC00516128</td>\n",
       "      <td>MANOA LYON ARBO 785.2, HI US</td>\n",
       "      <td>9.420000</td>\n",
       "    </tr>\n",
       "    <tr>\n",
       "      <th>3</th>\n",
       "      <td>USC00517948</td>\n",
       "      <td>PEARL CITY, HI US</td>\n",
       "      <td>0.025714</td>\n",
       "    </tr>\n",
       "    <tr>\n",
       "      <th>4</th>\n",
       "      <td>USC00519281</td>\n",
       "      <td>WAIHEE 837.5, HI US</td>\n",
       "      <td>5.500000</td>\n",
       "    </tr>\n",
       "    <tr>\n",
       "      <th>5</th>\n",
       "      <td>USC00519397</td>\n",
       "      <td>WAIKIKI 717.2, HI US</td>\n",
       "      <td>0.560000</td>\n",
       "    </tr>\n",
       "    <tr>\n",
       "      <th>6</th>\n",
       "      <td>USC00519523</td>\n",
       "      <td>WAIMANALO EXPERIMENTAL FARM, HI US</td>\n",
       "      <td>0.840000</td>\n",
       "    </tr>\n",
       "  </tbody>\n",
       "</table>\n",
       "</div>"
      ],
      "text/plain": [
       "       station                                    name  rainfall\n",
       "0  USC00513117                    KANEOHE 838.1, HI US  2.110000\n",
       "1  USC00514830  KUALOA RANCH HEADQUARTERS 886.9, HI US  0.305000\n",
       "2  USC00516128            MANOA LYON ARBO 785.2, HI US  9.420000\n",
       "3  USC00517948                       PEARL CITY, HI US  0.025714\n",
       "4  USC00519281                     WAIHEE 837.5, HI US  5.500000\n",
       "5  USC00519397                    WAIKIKI 717.2, HI US  0.560000\n",
       "6  USC00519523      WAIMANALO EXPERIMENTAL FARM, HI US  0.840000"
      ]
     },
     "execution_count": 22,
     "metadata": {},
     "output_type": "execute_result"
    }
   ],
   "source": [
    "# Calcualte the rainfall per weather station using the previous year's matching dates.\n",
    "\n",
    "rain_per_station_df = pd.read_sql(session.query(Measurements.station, Stations.name, \n",
    "                                                func.sum(Measurements.prcp).label(\"rainfall\")).\\\n",
    "                                              filter(Measurements.station == Stations.station).\\\n",
    "                                              filter(Measurements.date.between(start_date, end_date)).\\\n",
    "                                              group_by(Measurements.station).statement, session.bind)\n",
    "\n",
    "rain_per_station_df"
   ]
  },
  {
   "cell_type": "markdown",
   "metadata": {},
   "source": [
    "### 2.- Calculate the daily normals. Normals are the averages for min, avg, and max temperatures."
   ]
  },
  {
   "cell_type": "markdown",
   "metadata": {},
   "source": [
    "* Create a function called daily_normals that will calculate the daily normals for a specific date. This date string will be in the format %m-%d. Be sure to use all historic tobs that match that date string.\n",
    "* Create a list of dates for your trip in the format %m-%d. Use the daily_normals function to calculate the normals for each date string and append the results to a list.\n",
    "* Load the list of daily normals into a Pandas DataFrame and set the index equal to the date.\n",
    "* Use Pandas to plot an area plot (stacked=False) for the daily normals."
   ]
  },
  {
   "cell_type": "code",
   "execution_count": 23,
   "metadata": {
    "collapsed": true
   },
   "outputs": [],
   "source": [
    "# Function daily_normals that calculate the daily normals of Minimum, Maximum and Average temperatures for a specific date\n",
    "\n",
    "def daily_normals(month_day):\n",
    "    \n",
    "    md_str = datetime.strftime(month_day, \"%m-%d\")\n",
    "    \n",
    "    dn_list = []\n",
    "    \n",
    "    temps = session.query(func.min(Measurements.tobs), func.max(Measurements.tobs),\n",
    "                         func.avg(Measurements.tobs)).\\\n",
    "                         filter(func.strftime(\"%m-%d\", Measurements.date) == md_str).\\\n",
    "                         group_by(Measurements.date).all()\n",
    "            \n",
    "    daily_normal_df = pd.DataFrame(temps[:], columns=[\"Avg_Min\",\"Avg_Max\",\"Avg_Temp\"])\n",
    "    \n",
    "    dn_list.insert(0, md_str)\n",
    "    dn_list.insert(1, round(daily_normal_df[\"Avg_Min\"].mean(),2))\n",
    "    dn_list.insert(2, round(daily_normal_df[\"Avg_Max\"].mean(),2))\n",
    "    dn_list.insert(3, round(daily_normal_df[\"Avg_Temp\"].mean(),2))\n",
    "                    \n",
    "    return(dn_list)    "
   ]
  },
  {
   "cell_type": "code",
   "execution_count": 24,
   "metadata": {},
   "outputs": [
    {
     "data": {
      "text/html": [
       "<div>\n",
       "<style>\n",
       "    .dataframe thead tr:only-child th {\n",
       "        text-align: right;\n",
       "    }\n",
       "\n",
       "    .dataframe thead th {\n",
       "        text-align: left;\n",
       "    }\n",
       "\n",
       "    .dataframe tbody tr th {\n",
       "        vertical-align: top;\n",
       "    }\n",
       "</style>\n",
       "<table border=\"1\" class=\"dataframe\">\n",
       "  <thead>\n",
       "    <tr style=\"text-align: right;\">\n",
       "      <th></th>\n",
       "      <th>tmin</th>\n",
       "      <th>tmax</th>\n",
       "      <th>tavg</th>\n",
       "    </tr>\n",
       "    <tr>\n",
       "      <th>date</th>\n",
       "      <th></th>\n",
       "      <th></th>\n",
       "      <th></th>\n",
       "    </tr>\n",
       "  </thead>\n",
       "  <tbody>\n",
       "    <tr>\n",
       "      <th>08-11</th>\n",
       "      <td>71.00</td>\n",
       "      <td>80.12</td>\n",
       "      <td>76.16</td>\n",
       "    </tr>\n",
       "    <tr>\n",
       "      <th>08-12</th>\n",
       "      <td>71.50</td>\n",
       "      <td>80.38</td>\n",
       "      <td>76.77</td>\n",
       "    </tr>\n",
       "    <tr>\n",
       "      <th>08-13</th>\n",
       "      <td>73.38</td>\n",
       "      <td>81.12</td>\n",
       "      <td>77.18</td>\n",
       "    </tr>\n",
       "    <tr>\n",
       "      <th>08-14</th>\n",
       "      <td>72.75</td>\n",
       "      <td>79.88</td>\n",
       "      <td>76.82</td>\n",
       "    </tr>\n",
       "    <tr>\n",
       "      <th>08-15</th>\n",
       "      <td>71.62</td>\n",
       "      <td>80.38</td>\n",
       "      <td>76.53</td>\n",
       "    </tr>\n",
       "    <tr>\n",
       "      <th>08-16</th>\n",
       "      <td>71.50</td>\n",
       "      <td>81.25</td>\n",
       "      <td>76.32</td>\n",
       "    </tr>\n",
       "    <tr>\n",
       "      <th>08-17</th>\n",
       "      <td>71.62</td>\n",
       "      <td>80.62</td>\n",
       "      <td>76.29</td>\n",
       "    </tr>\n",
       "    <tr>\n",
       "      <th>08-18</th>\n",
       "      <td>72.62</td>\n",
       "      <td>80.50</td>\n",
       "      <td>77.12</td>\n",
       "    </tr>\n",
       "    <tr>\n",
       "      <th>08-19</th>\n",
       "      <td>70.88</td>\n",
       "      <td>81.00</td>\n",
       "      <td>76.18</td>\n",
       "    </tr>\n",
       "    <tr>\n",
       "      <th>08-20</th>\n",
       "      <td>72.12</td>\n",
       "      <td>80.12</td>\n",
       "      <td>76.83</td>\n",
       "    </tr>\n",
       "    <tr>\n",
       "      <th>08-21</th>\n",
       "      <td>72.38</td>\n",
       "      <td>80.38</td>\n",
       "      <td>76.79</td>\n",
       "    </tr>\n",
       "    <tr>\n",
       "      <th>08-22</th>\n",
       "      <td>72.50</td>\n",
       "      <td>80.38</td>\n",
       "      <td>76.81</td>\n",
       "    </tr>\n",
       "    <tr>\n",
       "      <th>08-23</th>\n",
       "      <td>72.38</td>\n",
       "      <td>81.12</td>\n",
       "      <td>76.92</td>\n",
       "    </tr>\n",
       "  </tbody>\n",
       "</table>\n",
       "</div>"
      ],
      "text/plain": [
       "        tmin   tmax   tavg\n",
       "date                      \n",
       "08-11  71.00  80.12  76.16\n",
       "08-12  71.50  80.38  76.77\n",
       "08-13  73.38  81.12  77.18\n",
       "08-14  72.75  79.88  76.82\n",
       "08-15  71.62  80.38  76.53\n",
       "08-16  71.50  81.25  76.32\n",
       "08-17  71.62  80.62  76.29\n",
       "08-18  72.62  80.50  77.12\n",
       "08-19  70.88  81.00  76.18\n",
       "08-20  72.12  80.12  76.83\n",
       "08-21  72.38  80.38  76.79\n",
       "08-22  72.50  80.38  76.81\n",
       "08-23  72.38  81.12  76.92"
      ]
     },
     "execution_count": 24,
     "metadata": {},
     "output_type": "execute_result"
    }
   ],
   "source": [
    "# Convert String dates into datetime.date\n",
    "sday = datetime.strptime(start_date, \"%Y-%m-%d\").date()\n",
    "eday = datetime.strptime(end_date, \"%Y-%m-%d\").date()\n",
    "\n",
    "# Get a list of days between start_date and end_date\n",
    "trip_days = [sday + timedelta(days=d) for d in range((eday -sday).days +1)]\n",
    "#print(trip_days)\n",
    "\n",
    "# Create an empty dataframe to save final data\n",
    "temps_trip_df = pd.DataFrame(columns=[\"date\",\"tmin\", \"tmax\", \"tavg\"])\n",
    "\n",
    "# Set up index\n",
    "idx = 0\n",
    "\n",
    "# loop for list of days to get the daily normals of minimum, maximum and average dates of each month-day \n",
    "for tday in trip_days:\n",
    "          \n",
    "    daily_mean_list = daily_normals(tday)\n",
    "    temps_trip_df.loc[idx] = daily_mean_list  # adding a row\n",
    "    idx += 1\n",
    "\n",
    "temps_trip_df.set_index(\"date\")"
   ]
  },
  {
   "cell_type": "code",
   "execution_count": 29,
   "metadata": {},
   "outputs": [
    {
     "data": {
      "text/plain": [
       "<matplotlib.figure.Figure at 0x1a4202c64a8>"
      ]
     },
     "metadata": {},
     "output_type": "display_data"
    },
    {
     "data": {
      "image/png": "[encoded data removed]",
      "text/plain": [
       "<matplotlib.figure.Figure at 0x1a4202c6630>"
      ]
     },
     "metadata": {},
     "output_type": "display_data"
    }
   ],
   "source": [
    "# Use Pandas to plot an area plot (stacked=False) for the daily normals.\n",
    "plt.style.use('ggplot')\n",
    "fig = plt.figure()\n",
    "\n",
    "#pal = sns.color_palette(\"hls\")\n",
    "temps_trip_df.plot.area(x ='date', y = [\"tmin\", \"tmax\", \"tavg\"],figsize=(12,8), stacked=False)\n",
    "\n",
    "plt.title(f\"Daily Normals ({start_date} - {end_date})\", fontsize=15)\n",
    "# plt.figsize = (50,30)\n",
    "plt.grid(True, c= 'black', lw= 1, ls='dashed')\n",
    "plt.xlabel(\"Date\",fontsize=13)\n",
    "plt.ylabel(\"Normals Temperatures (F)\", fontsize=13)\n",
    "plt.legend(loc=\"best\",prop={'size': 12})\n",
    "plt.grid(True, ls='dashed')\n",
    "plt.xticks(rotation=(0.45),size='large')\n",
    "plt.yticks(size='large')\n",
    "\n",
    "#plt.savefig('output/prcp_analysis.png')\n",
    "plt.show()"
   ]
  }
 ],
 "metadata": {
  "kernelspec": {
   "display_name": "Python 3",
   "language": "python",
   "name": "python3"
  },
  "language_info": {
   "codemirror_mode": {
    "name": "ipython",
    "version": 3
   },
   "file_extension": ".py",
   "mimetype": "text/x-python",
   "name": "python",
   "nbconvert_exporter": "python",
   "pygments_lexer": "ipython3",
   "version": "3.6.3"
  }
 },
 "nbformat": 4,
 "nbformat_minor": 2
}
