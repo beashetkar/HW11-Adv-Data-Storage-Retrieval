{
 "cells": [
  {
   "cell_type": "markdown",
   "metadata": {},
   "source": [
    "# Surfs Up! Climate Analysis.\n",
    "\n",
    "### Step 3 - Climate Analysis and Exploration\n",
    "\n",
    "* Create a Jupyter Notebook file called climate_analysis.ipynb and use it to complete your climate analysis and data exporation.\n",
    "\n",
    "* Choose a start date and end date for your trip. Make sure that your vacation range is approximately 3-15 days total.\n",
    "\n",
    "* Use SQLAlchemy create_engine to connect to your sqlite database.\n",
    "\n",
    "* Use SQLAlchemy automap_base() to reflect your tables into classes and save a reference to those classes called Station and Measurement."
   ]
  },
  {
   "cell_type": "code",
   "execution_count": 1,
   "metadata": {
    "collapsed": true
   },
   "outputs": [],
   "source": [
    "# Dependencies\n",
    "\n",
    "import pandas as pd\n",
    "import numpy as np\n",
    "from datetime import datetime, date\n",
    "import seaborn as sns\n",
    "import matplotlib\n",
    "import matplotlib.pyplot as plt\n",
    "from flask import Flask"
   ]
  },
  {
   "cell_type": "code",
   "execution_count": 2,
   "metadata": {
    "collapsed": true
   },
   "outputs": [],
   "source": [
    "# Python SQL toolkit and Object Relational Mapper\n",
    "\n",
    "import sqlalchemy\n",
    "from sqlalchemy.ext.automap import automap_base\n",
    "from sqlalchemy.orm import Session\n",
    "from sqlalchemy import create_engine, inspect\n",
    "from sqlalchemy.sql import func"
   ]
  },
  {
   "cell_type": "code",
   "execution_count": 3,
   "metadata": {
    "collapsed": true
   },
   "outputs": [],
   "source": [
    "engine = create_engine(\"sqlite:///hawaii.sqlite\", echo=False)"
   ]
  },
  {
   "cell_type": "markdown",
   "metadata": {},
   "source": [
    "### Database Exploration."
   ]
  },
  {
   "cell_type": "code",
   "execution_count": 4,
   "metadata": {},
   "outputs": [
    {
     "data": {
      "text/plain": [
       "['measurement', 'station']"
      ]
     },
     "execution_count": 4,
     "metadata": {},
     "output_type": "execute_result"
    }
   ],
   "source": [
    "inspector = inspect(engine)\n",
    "inspector.get_table_names()"
   ]
  },
  {
   "cell_type": "code",
   "execution_count": 5,
   "metadata": {},
   "outputs": [
    {
     "data": {
      "text/plain": [
       "[(1, 'USC00519397', '2010-01-01', 0.08, 65),\n",
       " (2, 'USC00519397', '2010-01-02', 0.0, 63),\n",
       " (3, 'USC00519397', '2010-01-03', 0.0, 74),\n",
       " (4, 'USC00519397', '2010-01-04', 0.0, 76),\n",
       " (5, 'USC00519397', '2010-01-07', 0.06, 70)]"
      ]
     },
     "execution_count": 5,
     "metadata": {},
     "output_type": "execute_result"
    }
   ],
   "source": [
    "engine.execute('SELECT * FROM measurement LIMIT 5').fetchall()"
   ]
  },
  {
   "cell_type": "code",
   "execution_count": 6,
   "metadata": {},
   "outputs": [
    {
     "data": {
      "text/plain": [
       "[(1, 'USC00519397', 'WAIKIKI 717.2, HI US', 21.2716, -157.8168, 3.0),\n",
       " (2, 'USC00513117', 'KANEOHE 838.1, HI US', 21.4234, -157.8015, 14.6),\n",
       " (3, 'USC00514830', 'KUALOA RANCH HEADQUARTERS 886.9, HI US', 21.5213, -157.8374, 7.0),\n",
       " (4, 'USC00517948', 'PEARL CITY, HI US', 21.3934, -157.9751, 11.9),\n",
       " (5, 'USC00518838', 'UPPER WAHIAWA 874.3, HI US', 21.4992, -158.0111, 306.6)]"
      ]
     },
     "execution_count": 6,
     "metadata": {},
     "output_type": "execute_result"
    }
   ],
   "source": [
    "engine.execute('SELECT * FROM station LIMIT 5').fetchall()"
   ]
  },
  {
   "cell_type": "code",
   "execution_count": 7,
   "metadata": {},
   "outputs": [
    {
     "name": "stdout",
     "output_type": "stream",
     "text": [
      "id INTEGER\n",
      "station VARCHAR\n",
      "date VARCHAR\n",
      "prcp FLOAT\n",
      "tobs INTEGER\n"
     ]
    }
   ],
   "source": [
    "columns = inspector.get_columns('measurement')\n",
    "for c in columns:\n",
    "    print(c['name'], c[\"type\"])"
   ]
  },
  {
   "cell_type": "code",
   "execution_count": 8,
   "metadata": {},
   "outputs": [
    {
     "name": "stdout",
     "output_type": "stream",
     "text": [
      "id INTEGER\n",
      "station VARCHAR\n",
      "name VARCHAR(255)\n",
      "latitude FLOAT\n",
      "longitude FLOAT\n",
      "elevation FLOAT\n"
     ]
    }
   ],
   "source": [
    "columns = inspector.get_columns('station')\n",
    "for c in columns:\n",
    "    print(c['name'], c[\"type\"])"
   ]
  },
  {
   "cell_type": "markdown",
   "metadata": {},
   "source": [
    "### Reflect database "
   ]
  },
  {
   "cell_type": "code",
   "execution_count": 9,
   "metadata": {
    "collapsed": true
   },
   "outputs": [],
   "source": [
    "# Reflect Database into ORM class\n",
    "Base = automap_base()\n",
    "\n",
    "# Use the Base class to reflect the database tables\n",
    "Base.prepare(engine, reflect=True)\n",
    "\n",
    "# Print all of the classes mapped to the Base\n",
    "#Base.classes.keys()"
   ]
  },
  {
   "cell_type": "code",
   "execution_count": 10,
   "metadata": {
    "collapsed": true
   },
   "outputs": [],
   "source": [
    "# Assign the measurement and station  classes to the variables called `Measurements` and 'Stations'\n",
    "Measurements = Base.classes.measurement\n",
    "Stations = Base.classes.station\n",
    "\n",
    "# Create a session\n",
    "session = Session(engine)"
   ]
  },
  {
   "cell_type": "code",
   "execution_count": 11,
   "metadata": {},
   "outputs": [
    {
     "data": {
      "text/plain": [
       "{'_sa_instance_state': <sqlalchemy.orm.state.InstanceState at 0x14831ced7f0>,\n",
       " 'date': '2010-01-01',\n",
       " 'id': 1,\n",
       " 'prcp': 0.08,\n",
       " 'station': 'USC00519397',\n",
       " 'tobs': 65}"
      ]
     },
     "execution_count": 11,
     "metadata": {},
     "output_type": "execute_result"
    }
   ],
   "source": [
    "# Display the row's columns and data in dictionary format\n",
    "measurement_data = session.query(Measurements).first()\n",
    "measurement_data.__dict__"
   ]
  },
  {
   "cell_type": "code",
   "execution_count": 12,
   "metadata": {},
   "outputs": [
    {
     "data": {
      "text/plain": [
       "{'_sa_instance_state': <sqlalchemy.orm.state.InstanceState at 0x14831dc1278>,\n",
       " 'elevation': 3.0,\n",
       " 'id': 1,\n",
       " 'latitude': 21.2716,\n",
       " 'longitude': -157.8168,\n",
       " 'name': 'WAIKIKI 717.2, HI US',\n",
       " 'station': 'USC00519397'}"
      ]
     },
     "execution_count": 12,
     "metadata": {},
     "output_type": "execute_result"
    }
   ],
   "source": [
    "station_data = session.query(Stations).first()\n",
    "station_data.__dict__"
   ]
  },
  {
   "cell_type": "markdown",
   "metadata": {},
   "source": [
    "### Precipitation Analysis\n",
    "\n",
    "* Design a query to retrieve the last 12 months of precipitation data.\n",
    "* Select only the date and prcp values.\n",
    "* Load the query results into a Pandas DataFrame and set the index to the date column.\n",
    "* Plot the results using the DataFrame plot method.\n",
    "* Use Pandas to print the summary statistics for the precipitation data."
   ]
  },
  {
   "cell_type": "code",
   "execution_count": 13,
   "metadata": {
    "collapsed": true
   },
   "outputs": [],
   "source": [
    "def get_start_date(end_date,t_move):\n",
    "\n",
    "    endDate = datetime.strptime(end_date, \"%Y-%m-%d\").date()\n",
    "\n",
    "    # reconstruct date fully\n",
    "    if t_move == 'Y' :\n",
    "        startDate = datetime(endDate.year - 1, endDate.month, endDate.day)\n",
    "    else:\n",
    "        startDate = datetime(endDate.year, endDate.month, endDate.day-trip)\n",
    "        \n",
    "    datetime.strftime(startDate, \"%Y-%m-%d\").replace(' 0', ' ')\n",
    "\n",
    "    return (datetime.strftime(startDate, \"%Y-%m-%d\").replace(' 0', ' '))\n"
   ]
  },
  {
   "cell_type": "code",
   "execution_count": 14,
   "metadata": {},
   "outputs": [
    {
     "data": {
      "text/html": [
       "<div>\n",
       "<style>\n",
       "    .dataframe thead tr:only-child th {\n",
       "        text-align: right;\n",
       "    }\n",
       "\n",
       "    .dataframe thead th {\n",
       "        text-align: left;\n",
       "    }\n",
       "\n",
       "    .dataframe tbody tr th {\n",
       "        vertical-align: top;\n",
       "    }\n",
       "</style>\n",
       "<table border=\"1\" class=\"dataframe\">\n",
       "  <thead>\n",
       "    <tr style=\"text-align: right;\">\n",
       "      <th></th>\n",
       "      <th>station</th>\n",
       "      <th>tobs</th>\n",
       "      <th>prcp</th>\n",
       "    </tr>\n",
       "    <tr>\n",
       "      <th>date</th>\n",
       "      <th></th>\n",
       "      <th></th>\n",
       "      <th></th>\n",
       "    </tr>\n",
       "  </thead>\n",
       "  <tbody>\n",
       "    <tr>\n",
       "      <th>2016-08-23</th>\n",
       "      <td>USC00519397</td>\n",
       "      <td>81</td>\n",
       "      <td>0.00</td>\n",
       "    </tr>\n",
       "    <tr>\n",
       "      <th>2016-08-23</th>\n",
       "      <td>USC00513117</td>\n",
       "      <td>76</td>\n",
       "      <td>0.15</td>\n",
       "    </tr>\n",
       "    <tr>\n",
       "      <th>2016-08-23</th>\n",
       "      <td>USC00514830</td>\n",
       "      <td>80</td>\n",
       "      <td>0.05</td>\n",
       "    </tr>\n",
       "    <tr>\n",
       "      <th>2016-08-23</th>\n",
       "      <td>USC00519523</td>\n",
       "      <td>80</td>\n",
       "      <td>0.02</td>\n",
       "    </tr>\n",
       "    <tr>\n",
       "      <th>2016-08-23</th>\n",
       "      <td>USC00519281</td>\n",
       "      <td>77</td>\n",
       "      <td>1.79</td>\n",
       "    </tr>\n",
       "    <tr>\n",
       "      <th>2016-08-23</th>\n",
       "      <td>USC00516128</td>\n",
       "      <td>74</td>\n",
       "      <td>0.70</td>\n",
       "    </tr>\n",
       "    <tr>\n",
       "      <th>2016-08-24</th>\n",
       "      <td>USC00519397</td>\n",
       "      <td>79</td>\n",
       "      <td>0.08</td>\n",
       "    </tr>\n",
       "    <tr>\n",
       "      <th>2016-08-24</th>\n",
       "      <td>USC00513117</td>\n",
       "      <td>76</td>\n",
       "      <td>2.15</td>\n",
       "    </tr>\n",
       "    <tr>\n",
       "      <th>2016-08-24</th>\n",
       "      <td>USC00514830</td>\n",
       "      <td>80</td>\n",
       "      <td>2.28</td>\n",
       "    </tr>\n",
       "    <tr>\n",
       "      <th>2016-08-24</th>\n",
       "      <td>USC00519523</td>\n",
       "      <td>79</td>\n",
       "      <td>1.22</td>\n",
       "    </tr>\n",
       "    <tr>\n",
       "      <th>2016-08-24</th>\n",
       "      <td>USC00519281</td>\n",
       "      <td>77</td>\n",
       "      <td>2.15</td>\n",
       "    </tr>\n",
       "    <tr>\n",
       "      <th>2016-08-24</th>\n",
       "      <td>USC00516128</td>\n",
       "      <td>74</td>\n",
       "      <td>1.45</td>\n",
       "    </tr>\n",
       "    <tr>\n",
       "      <th>2016-08-25</th>\n",
       "      <td>USC00519397</td>\n",
       "      <td>80</td>\n",
       "      <td>0.08</td>\n",
       "    </tr>\n",
       "    <tr>\n",
       "      <th>2016-08-25</th>\n",
       "      <td>USC00513117</td>\n",
       "      <td>77</td>\n",
       "      <td>0.08</td>\n",
       "    </tr>\n",
       "    <tr>\n",
       "      <th>2016-08-25</th>\n",
       "      <td>USC00514830</td>\n",
       "      <td>81</td>\n",
       "      <td>0.00</td>\n",
       "    </tr>\n",
       "    <tr>\n",
       "      <th>2016-08-25</th>\n",
       "      <td>USC00517948</td>\n",
       "      <td>81</td>\n",
       "      <td>0.00</td>\n",
       "    </tr>\n",
       "    <tr>\n",
       "      <th>2016-08-25</th>\n",
       "      <td>USC00519523</td>\n",
       "      <td>80</td>\n",
       "      <td>0.21</td>\n",
       "    </tr>\n",
       "    <tr>\n",
       "      <th>2016-08-25</th>\n",
       "      <td>USC00519281</td>\n",
       "      <td>80</td>\n",
       "      <td>0.06</td>\n",
       "    </tr>\n",
       "    <tr>\n",
       "      <th>2016-08-25</th>\n",
       "      <td>USC00516128</td>\n",
       "      <td>77</td>\n",
       "      <td>0.11</td>\n",
       "    </tr>\n",
       "    <tr>\n",
       "      <th>2016-08-26</th>\n",
       "      <td>USC00519397</td>\n",
       "      <td>79</td>\n",
       "      <td>0.00</td>\n",
       "    </tr>\n",
       "    <tr>\n",
       "      <th>2016-08-26</th>\n",
       "      <td>USC00513117</td>\n",
       "      <td>78</td>\n",
       "      <td>0.03</td>\n",
       "    </tr>\n",
       "    <tr>\n",
       "      <th>2016-08-26</th>\n",
       "      <td>USC00514830</td>\n",
       "      <td>81</td>\n",
       "      <td>0.02</td>\n",
       "    </tr>\n",
       "    <tr>\n",
       "      <th>2016-08-26</th>\n",
       "      <td>USC00517948</td>\n",
       "      <td>81</td>\n",
       "      <td>0.04</td>\n",
       "    </tr>\n",
       "    <tr>\n",
       "      <th>2016-08-26</th>\n",
       "      <td>USC00519523</td>\n",
       "      <td>84</td>\n",
       "      <td>0.00</td>\n",
       "    </tr>\n",
       "    <tr>\n",
       "      <th>2016-08-26</th>\n",
       "      <td>USC00519281</td>\n",
       "      <td>80</td>\n",
       "      <td>0.01</td>\n",
       "    </tr>\n",
       "    <tr>\n",
       "      <th>2016-08-27</th>\n",
       "      <td>USC00519397</td>\n",
       "      <td>77</td>\n",
       "      <td>0.00</td>\n",
       "    </tr>\n",
       "    <tr>\n",
       "      <th>2016-08-27</th>\n",
       "      <td>USC00513117</td>\n",
       "      <td>73</td>\n",
       "      <td>0.18</td>\n",
       "    </tr>\n",
       "    <tr>\n",
       "      <th>2016-08-27</th>\n",
       "      <td>USC00514830</td>\n",
       "      <td>81</td>\n",
       "      <td>0.02</td>\n",
       "    </tr>\n",
       "    <tr>\n",
       "      <th>2016-08-27</th>\n",
       "      <td>USC00519523</td>\n",
       "      <td>81</td>\n",
       "      <td>0.00</td>\n",
       "    </tr>\n",
       "    <tr>\n",
       "      <th>2016-08-27</th>\n",
       "      <td>USC00519281</td>\n",
       "      <td>75</td>\n",
       "      <td>0.12</td>\n",
       "    </tr>\n",
       "    <tr>\n",
       "      <th>...</th>\n",
       "      <td>...</td>\n",
       "      <td>...</td>\n",
       "      <td>...</td>\n",
       "    </tr>\n",
       "    <tr>\n",
       "      <th>2017-08-15</th>\n",
       "      <td>USC00514830</td>\n",
       "      <td>82</td>\n",
       "      <td>0.00</td>\n",
       "    </tr>\n",
       "    <tr>\n",
       "      <th>2017-08-15</th>\n",
       "      <td>USC00519523</td>\n",
       "      <td>79</td>\n",
       "      <td>0.06</td>\n",
       "    </tr>\n",
       "    <tr>\n",
       "      <th>2017-08-15</th>\n",
       "      <td>USC00519281</td>\n",
       "      <td>77</td>\n",
       "      <td>0.32</td>\n",
       "    </tr>\n",
       "    <tr>\n",
       "      <th>2017-08-15</th>\n",
       "      <td>USC00516128</td>\n",
       "      <td>70</td>\n",
       "      <td>0.42</td>\n",
       "    </tr>\n",
       "    <tr>\n",
       "      <th>2017-08-16</th>\n",
       "      <td>USC00514830</td>\n",
       "      <td>82</td>\n",
       "      <td>0.00</td>\n",
       "    </tr>\n",
       "    <tr>\n",
       "      <th>2017-08-16</th>\n",
       "      <td>USC00519523</td>\n",
       "      <td>79</td>\n",
       "      <td>0.07</td>\n",
       "    </tr>\n",
       "    <tr>\n",
       "      <th>2017-08-16</th>\n",
       "      <td>USC00519281</td>\n",
       "      <td>76</td>\n",
       "      <td>0.12</td>\n",
       "    </tr>\n",
       "    <tr>\n",
       "      <th>2017-08-16</th>\n",
       "      <td>USC00516128</td>\n",
       "      <td>71</td>\n",
       "      <td>0.42</td>\n",
       "    </tr>\n",
       "    <tr>\n",
       "      <th>2017-08-17</th>\n",
       "      <td>USC00514830</td>\n",
       "      <td>78</td>\n",
       "      <td>0.00</td>\n",
       "    </tr>\n",
       "    <tr>\n",
       "      <th>2017-08-17</th>\n",
       "      <td>USC00519523</td>\n",
       "      <td>83</td>\n",
       "      <td>0.05</td>\n",
       "    </tr>\n",
       "    <tr>\n",
       "      <th>2017-08-17</th>\n",
       "      <td>USC00519281</td>\n",
       "      <td>76</td>\n",
       "      <td>0.01</td>\n",
       "    </tr>\n",
       "    <tr>\n",
       "      <th>2017-08-17</th>\n",
       "      <td>USC00516128</td>\n",
       "      <td>72</td>\n",
       "      <td>0.13</td>\n",
       "    </tr>\n",
       "    <tr>\n",
       "      <th>2017-08-18</th>\n",
       "      <td>USC00519397</td>\n",
       "      <td>80</td>\n",
       "      <td>0.00</td>\n",
       "    </tr>\n",
       "    <tr>\n",
       "      <th>2017-08-18</th>\n",
       "      <td>USC00514830</td>\n",
       "      <td>77</td>\n",
       "      <td>0.00</td>\n",
       "    </tr>\n",
       "    <tr>\n",
       "      <th>2017-08-18</th>\n",
       "      <td>USC00519281</td>\n",
       "      <td>79</td>\n",
       "      <td>0.06</td>\n",
       "    </tr>\n",
       "    <tr>\n",
       "      <th>2017-08-19</th>\n",
       "      <td>USC00519397</td>\n",
       "      <td>79</td>\n",
       "      <td>0.00</td>\n",
       "    </tr>\n",
       "    <tr>\n",
       "      <th>2017-08-19</th>\n",
       "      <td>USC00514830</td>\n",
       "      <td>80</td>\n",
       "      <td>0.00</td>\n",
       "    </tr>\n",
       "    <tr>\n",
       "      <th>2017-08-19</th>\n",
       "      <td>USC00516128</td>\n",
       "      <td>71</td>\n",
       "      <td>0.09</td>\n",
       "    </tr>\n",
       "    <tr>\n",
       "      <th>2017-08-20</th>\n",
       "      <td>USC00519397</td>\n",
       "      <td>81</td>\n",
       "      <td>0.00</td>\n",
       "    </tr>\n",
       "    <tr>\n",
       "      <th>2017-08-20</th>\n",
       "      <td>USC00514830</td>\n",
       "      <td>80</td>\n",
       "      <td>0.01</td>\n",
       "    </tr>\n",
       "    <tr>\n",
       "      <th>2017-08-21</th>\n",
       "      <td>USC00519397</td>\n",
       "      <td>81</td>\n",
       "      <td>0.00</td>\n",
       "    </tr>\n",
       "    <tr>\n",
       "      <th>2017-08-21</th>\n",
       "      <td>USC00514830</td>\n",
       "      <td>79</td>\n",
       "      <td>0.02</td>\n",
       "    </tr>\n",
       "    <tr>\n",
       "      <th>2017-08-21</th>\n",
       "      <td>USC00516128</td>\n",
       "      <td>76</td>\n",
       "      <td>0.56</td>\n",
       "    </tr>\n",
       "    <tr>\n",
       "      <th>2017-08-22</th>\n",
       "      <td>USC00519397</td>\n",
       "      <td>82</td>\n",
       "      <td>0.00</td>\n",
       "    </tr>\n",
       "    <tr>\n",
       "      <th>2017-08-22</th>\n",
       "      <td>USC00519523</td>\n",
       "      <td>82</td>\n",
       "      <td>0.00</td>\n",
       "    </tr>\n",
       "    <tr>\n",
       "      <th>2017-08-22</th>\n",
       "      <td>USC00516128</td>\n",
       "      <td>76</td>\n",
       "      <td>0.50</td>\n",
       "    </tr>\n",
       "    <tr>\n",
       "      <th>2017-08-23</th>\n",
       "      <td>USC00519397</td>\n",
       "      <td>81</td>\n",
       "      <td>0.00</td>\n",
       "    </tr>\n",
       "    <tr>\n",
       "      <th>2017-08-23</th>\n",
       "      <td>USC00514830</td>\n",
       "      <td>82</td>\n",
       "      <td>0.00</td>\n",
       "    </tr>\n",
       "    <tr>\n",
       "      <th>2017-08-23</th>\n",
       "      <td>USC00519523</td>\n",
       "      <td>82</td>\n",
       "      <td>0.08</td>\n",
       "    </tr>\n",
       "    <tr>\n",
       "      <th>2017-08-23</th>\n",
       "      <td>USC00516128</td>\n",
       "      <td>76</td>\n",
       "      <td>0.45</td>\n",
       "    </tr>\n",
       "  </tbody>\n",
       "</table>\n",
       "<p>2021 rows × 3 columns</p>\n",
       "</div>"
      ],
      "text/plain": [
       "                station  tobs  prcp\n",
       "date                               \n",
       "2016-08-23  USC00519397    81  0.00\n",
       "2016-08-23  USC00513117    76  0.15\n",
       "2016-08-23  USC00514830    80  0.05\n",
       "2016-08-23  USC00519523    80  0.02\n",
       "2016-08-23  USC00519281    77  1.79\n",
       "2016-08-23  USC00516128    74  0.70\n",
       "2016-08-24  USC00519397    79  0.08\n",
       "2016-08-24  USC00513117    76  2.15\n",
       "2016-08-24  USC00514830    80  2.28\n",
       "2016-08-24  USC00519523    79  1.22\n",
       "2016-08-24  USC00519281    77  2.15\n",
       "2016-08-24  USC00516128    74  1.45\n",
       "2016-08-25  USC00519397    80  0.08\n",
       "2016-08-25  USC00513117    77  0.08\n",
       "2016-08-25  USC00514830    81  0.00\n",
       "2016-08-25  USC00517948    81  0.00\n",
       "2016-08-25  USC00519523    80  0.21\n",
       "2016-08-25  USC00519281    80  0.06\n",
       "2016-08-25  USC00516128    77  0.11\n",
       "2016-08-26  USC00519397    79  0.00\n",
       "2016-08-26  USC00513117    78  0.03\n",
       "2016-08-26  USC00514830    81  0.02\n",
       "2016-08-26  USC00517948    81  0.04\n",
       "2016-08-26  USC00519523    84  0.00\n",
       "2016-08-26  USC00519281    80  0.01\n",
       "2016-08-27  USC00519397    77  0.00\n",
       "2016-08-27  USC00513117    73  0.18\n",
       "2016-08-27  USC00514830    81  0.02\n",
       "2016-08-27  USC00519523    81  0.00\n",
       "2016-08-27  USC00519281    75  0.12\n",
       "...                 ...   ...   ...\n",
       "2017-08-15  USC00514830    82  0.00\n",
       "2017-08-15  USC00519523    79  0.06\n",
       "2017-08-15  USC00519281    77  0.32\n",
       "2017-08-15  USC00516128    70  0.42\n",
       "2017-08-16  USC00514830    82  0.00\n",
       "2017-08-16  USC00519523    79  0.07\n",
       "2017-08-16  USC00519281    76  0.12\n",
       "2017-08-16  USC00516128    71  0.42\n",
       "2017-08-17  USC00514830    78  0.00\n",
       "2017-08-17  USC00519523    83  0.05\n",
       "2017-08-17  USC00519281    76  0.01\n",
       "2017-08-17  USC00516128    72  0.13\n",
       "2017-08-18  USC00519397    80  0.00\n",
       "2017-08-18  USC00514830    77  0.00\n",
       "2017-08-18  USC00519281    79  0.06\n",
       "2017-08-19  USC00519397    79  0.00\n",
       "2017-08-19  USC00514830    80  0.00\n",
       "2017-08-19  USC00516128    71  0.09\n",
       "2017-08-20  USC00519397    81  0.00\n",
       "2017-08-20  USC00514830    80  0.01\n",
       "2017-08-21  USC00519397    81  0.00\n",
       "2017-08-21  USC00514830    79  0.02\n",
       "2017-08-21  USC00516128    76  0.56\n",
       "2017-08-22  USC00519397    82  0.00\n",
       "2017-08-22  USC00519523    82  0.00\n",
       "2017-08-22  USC00516128    76  0.50\n",
       "2017-08-23  USC00519397    81  0.00\n",
       "2017-08-23  USC00514830    82  0.00\n",
       "2017-08-23  USC00519523    82  0.08\n",
       "2017-08-23  USC00516128    76  0.45\n",
       "\n",
       "[2021 rows x 3 columns]"
      ]
     },
     "execution_count": 14,
     "metadata": {},
     "output_type": "execute_result"
    }
   ],
   "source": [
    "qry = session.query(func.max(Measurements.date).label(\"end_date\"))\n",
    "res = qry.one()\n",
    "end_date = res.end_date\n",
    "\n",
    "start_date = get_start_date(end_date, 'Y')\n",
    "\n",
    "prcp_year_df = pd.read_sql(session.query(Measurements.date,Measurements.station, Measurements.tobs, Measurements.prcp).\\\n",
    "        filter(Measurements.date.between(start_date, end_date)).\\\n",
    "        order_by(Measurements.date.asc()).statement, session.bind) \n",
    "\n",
    "prcp_year_df.set_index('date')"
   ]
  },
  {
   "cell_type": "code",
   "execution_count": 15,
   "metadata": {},
   "outputs": [
    {
     "data": {
      "text/plain": [
       "<matplotlib.figure.Figure at 0x14831dd1710>"
      ]
     },
     "metadata": {},
     "output_type": "display_data"
    },
    {
     "data": {
      "image/png": "[encoded data removed]",
      "text/plain": [
       "<matplotlib.figure.Figure at 0x14831dc1eb8>"
      ]
     },
     "metadata": {},
     "output_type": "display_data"
    }
   ],
   "source": [
    "fig = plt.figure()\n",
    "\n",
    "prcp_year_df.plot(x='date', figsize = (18,8), color='blue' )\n",
    "\n",
    "plt.title(f\"Hawaii Precipitation Analysis ({start_date} - {end_date})\" , fontsize=25)\n",
    "plt.ylabel(\"Precipitation (inches)\", fontsize=20)\n",
    "plt.xlabel(\"Date\", fontsize=20)\n",
    "plt.grid(True, ls='dashed')\n",
    "plt.xticks(rotation=(0.45),size='large')\n",
    "plt.yticks(size='large')\n",
    "\n",
    "# Put a legend below current axis\n",
    "plt.legend([\"Precipitation\"],loc=\"best\",prop={'size': 20})\n",
    "\n",
    "#plt.savefig('output/prcp_analysis.png')\n",
    "plt.show()"
   ]
  },
  {
   "cell_type": "markdown",
   "metadata": {},
   "source": [
    "### Station Analysis\n",
    "\n",
    "1. Design a query to calculate the total number of stations.\n",
    "2. Design a query to find the most active stations.\n",
    "    * List the stations and observation counts in descending order.\n",
    "    * Which station has the highest number of observations?\n",
    "3. Design a query to retrieve the last 12 months of temperature observation data (tobs).\n",
    "    * Filter by the station with the highest number of observations.\n",
    "    * Plot the results as a histogram with bins=12"
   ]
  },
  {
   "cell_type": "code",
   "execution_count": null,
   "metadata": {},
   "outputs": [],
   "source": [
    "# Total number of stations\n",
    "total_num_stations = session.query(Stations.station).count()\n",
    "print(f\"Total number  of stations : {total_num_stations} \")\n",
    "\n",
    "# The most Active stations.\n",
    "top_stations = session.query(Measurements.station, Stations.name, func.count(Measurements.tobs)).\\\n",
    "            filter(Measurements.station == Stations.station).\\\n",
    "            group_by(Measurements.station).\\\n",
    "            order_by(func.count(Measurements.tobs).desc()).all()\n",
    " \n",
    "print(\"\\nStations and Observations counts :\")\n",
    "top_stations\n"
   ]
  },
  {
   "cell_type": "code",
   "execution_count": null,
   "metadata": {},
   "outputs": [],
   "source": [
    "# Which station has the highest number of observations?\n",
    "\n",
    "highest_station = top_stations[0:1]\n",
    "print(\" Station: %s with the highest number of observations: %s\" \\\n",
    "      % (highest_station[0][0],highest_station[0][2]))\n",
    "           "
   ]
  },
  {
   "cell_type": "code",
   "execution_count": null,
   "metadata": {
    "collapsed": true
   },
   "outputs": [],
   "source": [
    "# Retrieve the last 12 months of temperature observation data (tobs) \n",
    "# for the station with the highest number of observations.\n",
    "\n",
    "tobs_hgst_station = session.query(Measurements.tobs).\\\n",
    "                      filter(Measurements.station == highest_station[0][0], \\\n",
    "                      Measurements.date.between(start_date, end_date)).all()\n",
    "    \n",
    "tobs_hgst_station_df = pd.DataFrame(tobs_hgst_station, columns=[ 'tobs'])"
   ]
  },
  {
   "cell_type": "code",
   "execution_count": null,
   "metadata": {},
   "outputs": [],
   "source": [
    "# Plot the results as a histogram with bins=12\n",
    "\n",
    "fig = plt.figure()\n",
    "\n",
    "# Control the number of bins\n",
    "sns.distplot(tobs_hgst_station_df[\"tobs\"], bins=12, color='blue', hist=True, kde=False, rug=False )\n",
    "\n",
    "plt.title(f\"Frequency of Temperature at {highest_station[0][1]}\", fontsize=15)\n",
    "plt.figsize = (50,30)\n",
    "plt.grid(True, ls='dashed')\n",
    "plt.xlabel(\"Temperature in Fahrenheits\",fontsize=13)\n",
    "plt.ylabel(\"Occurance\", fontsize=13)\n",
    "plt.legend([\"tobs\"],loc=\"best\",prop={'size': 12})\n",
    "\n",
    "plt.xticks(rotation=(0.45),size='large')\n",
    "plt.yticks(size='large')\n",
    "\n",
    "#plt.savefig('output/prcp_analysis.png')\n",
    "plt.show()\n"
   ]
  },
  {
   "cell_type": "markdown",
   "metadata": {},
   "source": [
    "### Temperature Analysis\n",
    "\n",
    "1) Write a function called calc_temps that will accept a start date and end date in the format %Y-%m-%d and return the minimum, average, and maximum temperatures for that range of dates.\n",
    "\n",
    "2) Use the calc_temps function to calculate the min, avg, and max temperatures for your trip using the matching dates from the previous year (i.e. use \"2017-01-01\" if your trip start date was \"2018-01-01\")\n",
    "\n",
    "3) Plot the min, avg, and max temperature from your previous query as a bar chart.\n",
    "\n",
    "    * Use the average temperature as the bar height.\n",
    "    * Use the peak-to-peak (tmax-tmin) value as the y error bar (yerr)."
   ]
  },
  {
   "cell_type": "code",
   "execution_count": null,
   "metadata": {
    "collapsed": true
   },
   "outputs": [],
   "source": [
    "def calc_temps(start_date, end_date):\n",
    "    \n",
    "    sel = [ func.min(Measurements.tobs), func.max(Measurements.tobs), func.avg(Measurements.tobs),\n",
    "       (func.max(Measurements.tobs) - func.min(Measurements.tobs))]\n",
    "           \n",
    "    stmt = session.query(*sel).filter(Measurements.date.between(start_date, end_date)).first()\n",
    "                  \n",
    "    return(stmt)"
   ]
  },
  {
   "cell_type": "code",
   "execution_count": null,
   "metadata": {},
   "outputs": [],
   "source": [
    "# Find the matching days from the previous years.\n",
    "\n",
    "# get one year after\n",
    "end_date = get_start_date(end_date, 'Y')\n",
    "# vacation trip was 12 days long\n",
    "trip = 12\n",
    "start_date = get_start_date(end_date, 'N')\n",
    "\n",
    "temp_analysis = calc_temps(start_date,end_date)\n",
    "\n",
    "temps = list(np.ravel(temp_analysis))\n",
    "temps"
   ]
  },
  {
   "cell_type": "code",
   "execution_count": null,
   "metadata": {},
   "outputs": [],
   "source": [
    "fig = plt.figure()\n",
    "\n",
    "plt.bar(0, temps[2], alpha=.25, yerr=[temps[3]])\n",
    "plt.align = 'center'\n",
    "plt.figsize = (40,20)\n",
    "plt.grid(True)\n",
    "plt.ylabel(\"Temp (F)\")\n",
    "plt.title(f\"Average Temp ({start_date} - {end_date})\")\n",
    "\n",
    "plt.show() \n"
   ]
  },
  {
   "cell_type": "markdown",
   "metadata": {},
   "source": [
    "### Step 4. Climate App\n",
    "\n",
    "Design a Flask api based on the queries that you have just developed."
   ]
  },
  {
   "cell_type": "code",
   "execution_count": null,
   "metadata": {
    "collapsed": true
   },
   "outputs": [],
   "source": [
    "# Flask Setup\n",
    "\n",
    "app = Flask(__name__)"
   ]
  },
  {
   "cell_type": "code",
   "execution_count": null,
   "metadata": {
    "collapsed": true
   },
   "outputs": [],
   "source": [
    "#################################################\n",
    "# Flask Routes\n",
    "#################################################\n",
    "\n",
    "@app.route(\"/\")\n",
    "def welcome():\n",
    "    \"\"\"List all available api routes.\"\"\"\n",
    "    return (\"Available Routes:<br/> \\\n",
    "            /api/v1.0/precipitation<br/> \\\n",
    "            /api/v1.0/stations<br/> \\\n",
    "            /api/v1.0/tobs<br/>\\\n",
    "            /api/v1.0/<start><br/>\\\n",
    "            /api/v1.0/<start>/<end> \")"
   ]
  },
  {
   "cell_type": "code",
   "execution_count": null,
   "metadata": {
    "collapsed": true
   },
   "outputs": [],
   "source": [
    "# Route /api/v1.0/precipitation\n",
    "# Query for the dates and temperature observations from the last year.\n",
    "# Convert the query results to a Dictionary using date as the key and prcp as the value.\n",
    "# Return the json representation of your dictionary.\n",
    "\n",
    "@app.route(\"/api/v1.0/precipitation\")\n",
    "def precipitation():\n",
    "    \n",
    "    last_12_prcp = session.query(Measurements.date,Measurements.prcp).\\\n",
    "                                 filter(Measurements.date.between(start_date, end_date)).\\\n",
    "                                 order_by(Measurements.date.asc()).all()\n",
    "            \n",
    "    prcp_data = []\n",
    "    for prcp in last_12_prcp:\n",
    "        prcp_dict = {}\n",
    "        prcp_dict[\"date\"] = passenger.date\n",
    "        prcp_dict[\"prcp\"] = passenger.prcp\n",
    "        prcp_data.append(prcp_dict)\n",
    "\n",
    "    return jsonify(prcp_data)"
   ]
  },
  {
   "cell_type": "code",
   "execution_count": null,
   "metadata": {
    "collapsed": true
   },
   "outputs": [],
   "source": [
    "# Route /api/v1.0/stations\n",
    "# Return a json list of stations from the dataset.\n",
    "\n",
    "@app.route(\"/api/v1.0/stations\")\n",
    "def stations():\n",
    "    \n",
    "    list_of_stations = session.query(Stations.station, Stations.name).all()\n",
    "    \n",
    "    stations_data = []\n",
    "    for rec_station in list_of_stations:\n",
    "        station_dict = {}\n",
    "        station_dict[\"sation\"] = rec_station.station\n",
    "        station_dict[\"name\"] = rec_station.name\n",
    "        stations_data.append(station_dict)\n",
    "        \n",
    "    return jsonify(stations_data)"
   ]
  },
  {
   "cell_type": "code",
   "execution_count": null,
   "metadata": {
    "collapsed": true
   },
   "outputs": [],
   "source": [
    "# Route /api/v1.0/tobs\n",
    "# Return a json list of Temperature Observations (tobs) for the previous year\n",
    "\n",
    "@app.route(\"/api/v1.0/tobs\")\n",
    "def tobs():\n",
    "    \n",
    "    last_12_tobs = session.query(Measurements.date, Measurements.tobs).\\\n",
    "                                 filter(Measurements.date.between(start_date, end_date)).\\\n",
    "                                 order_by(Measurements.date).all()\n",
    "\n",
    "    tobs_data = []\n",
    "    for rec_tobs in last_12_tobs:\n",
    "        tobs_dict = {}\n",
    "        tobs_dict[\"date\"] = rec_tobs.date\n",
    "        tobs_dict[\"tobs\"] = rec_tobs.tobs\n",
    "        tobs_data.append(tobs_dict)\n",
    "    \n",
    "    return jsonify(tobs_data)"
   ]
  },
  {
   "cell_type": "code",
   "execution_count": null,
   "metadata": {
    "collapsed": true
   },
   "outputs": [],
   "source": [
    "# Route /api/v1.0/<start>\n",
    "# Return a json list of the minimum temperature, the average temperature, and the max temperature  \n",
    "# for all dates greater than and equal to the start date.\n",
    "\n",
    "@app.route(\"/api/v1.0/<start>\")\n",
    "\n",
    "def temp_range_start(start_date):\n",
    "    \n",
    "    res_temp = session.query(func.min(Measurements.tobs).label(temp_min),\\\n",
    "                             func.avg(Measurements.tobs).label(temp_avg),\\\n",
    "                             func.max(Measurements.tobs).label(temp_max)).\\\n",
    "               filter(Measurements.date == start).first()\n",
    "        \n",
    "    tobs_data = list(np.ravel(res_temp))    \n",
    "        \n",
    "    return jsonify(tobs_data)"
   ]
  },
  {
   "cell_type": "code",
   "execution_count": null,
   "metadata": {
    "collapsed": true
   },
   "outputs": [],
   "source": [
    "# Route /api/v1.0/<start>\n",
    "# Return a json list of the minimum temperature, the average temperature, and the max temperature  \n",
    "# for all dates greater than and equal to the start date.\n",
    "\n",
    "@app.route(\"/api/v1.0/<start>/<end>\")\n",
    "\n",
    "def temp_start_end(start_date, end_date):\n",
    "    \n",
    "    res_temps = session.query(func.min(Measurements.tobs).label(temp_min),\\\n",
    "                             func.avg(Measurements.tobs).label(temp_avg),\\\n",
    "                             func.max(Measurements.tobs).label(temp_max)).\\\n",
    "                             filter(Measurements.date.between(start_date, end_date)).first()\n",
    "        \n",
    "    tobs_data = list(np.ravel(res_temps))\n",
    "    return jsonify(tobs_data)"
   ]
  },
  {
   "cell_type": "code",
   "execution_count": null,
   "metadata": {
    "collapsed": true
   },
   "outputs": [],
   "source": [
    "if __name__ == \"__main__\":\n",
    "    app.run(debug=False)"
   ]
  }
 ],
 "metadata": {
  "kernelspec": {
   "display_name": "Python 3",
   "language": "python",
   "name": "python3"
  },
  "language_info": {
   "codemirror_mode": {
    "name": "ipython",
    "version": 3
   },
   "file_extension": ".py",
   "mimetype": "text/x-python",
   "name": "python",
   "nbconvert_exporter": "python",
   "pygments_lexer": "ipython3",
   "version": "3.6.3"
  }
 },
 "nbformat": 4,
 "nbformat_minor": 2
}
